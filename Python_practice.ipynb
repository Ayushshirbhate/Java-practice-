{
  "nbformat": 4,
  "nbformat_minor": 0,
  "metadata": {
    "colab": {
      "provenance": [],
      "authorship_tag": "ABX9TyOEusknChxgR2Ijs7MPn5Ef",
      "include_colab_link": true
    },
    "kernelspec": {
      "name": "python3",
      "display_name": "Python 3"
    },
    "language_info": {
      "name": "python"
    }
  },
  "cells": [
    {
      "cell_type": "markdown",
      "metadata": {
        "id": "view-in-github",
        "colab_type": "text"
      },
      "source": [
        "<a href=\"https://colab.research.google.com/github/Ayushshirbhate/Java-practice-/blob/main/Python_practice.ipynb\" target=\"_parent\"><img src=\"https://colab.research.google.com/assets/colab-badge.svg\" alt=\"Open In Colab\"/></a>"
      ]
    },
    {
      "cell_type": "code",
      "execution_count": 1,
      "metadata": {
        "colab": {
          "base_uri": "https://localhost:8080/",
          "height": 141
        },
        "id": "oBr3owcPxn9b",
        "outputId": "a3027256-1292-4e93-c135-c702d1c04d4d"
      },
      "outputs": [
        {
          "output_type": "error",
          "ename": "TypeError",
          "evalue": "'builtin_function_or_method' object is not subscriptable",
          "traceback": [
            "\u001b[0;31m---------------------------------------------------------------------------\u001b[0m",
            "\u001b[0;31mTypeError\u001b[0m                                 Traceback (most recent call last)",
            "\u001b[0;32m<ipython-input-1-4a6d7fc46ed3>\u001b[0m in \u001b[0;36m<cell line: 1>\u001b[0;34m()\u001b[0m\n\u001b[0;32m----> 1\u001b[0;31m \u001b[0mprint\u001b[0m\u001b[0;34m(\u001b[0m\u001b[0msum\u001b[0m\u001b[0;34m[\u001b[0m\u001b[0;36m2\u001b[0m\u001b[0;34m,\u001b[0m\u001b[0;36m5\u001b[0m\u001b[0;34m]\u001b[0m\u001b[0;34m)\u001b[0m\u001b[0;34m\u001b[0m\u001b[0;34m\u001b[0m\u001b[0m\n\u001b[0m",
            "\u001b[0;31mTypeError\u001b[0m: 'builtin_function_or_method' object is not subscriptable"
          ]
        }
      ],
      "source": [
        "print(sum[2,5])"
      ]
    },
    {
      "cell_type": "code",
      "source": [
        "#Create a function to check no. is odd or even\n",
        "def even_odd_check(number):\n",
        "  if number%2==0:\n",
        "    return \"even\"\n",
        "  else:\n",
        "    return \"odd\""
      ],
      "metadata": {
        "id": "G0v0VftJy55_"
      },
      "execution_count": null,
      "outputs": []
    },
    {
      "cell_type": "code",
      "source": [
        "def even_check(number):\n",
        "  if number%2==0:\n",
        "   return \"even\"\n",
        "  else:\n",
        "    return \"Odd\"\n",
        "\n",
        "print(even_check(6))\n",
        "even_check(1)"
      ],
      "metadata": {
        "colab": {
          "base_uri": "https://localhost:8080/",
          "height": 53
        },
        "id": "c3WwZAwt09gY",
        "outputId": "5c265229-b403-4803-e9fd-416cebc24307"
      },
      "execution_count": 10,
      "outputs": [
        {
          "output_type": "stream",
          "name": "stdout",
          "text": [
            "even\n"
          ]
        },
        {
          "output_type": "execute_result",
          "data": {
            "text/plain": [
              "'Odd'"
            ],
            "application/vnd.google.colaboratory.intrinsic+json": {
              "type": "string"
            }
          },
          "metadata": {},
          "execution_count": 10
        }
      ]
    },
    {
      "cell_type": "code",
      "source": [
        "#function of multiple inputs\n",
        "\n",
        "def addition(num1, num2):\n",
        "  print(\"Addition is\")\n",
        "  return num1 + num2\n",
        "\n",
        "print(addition (10, 9))\n"
      ],
      "metadata": {
        "colab": {
          "base_uri": "https://localhost:8080/"
        },
        "id": "2fvckZDC1JfN",
        "outputId": "675182ea-6575-4a1a-959d-c3a6d034b549"
      },
      "execution_count": 16,
      "outputs": [
        {
          "output_type": "stream",
          "name": "stdout",
          "text": [
            "Addition is\n",
            "19\n"
          ]
        }
      ]
    },
    {
      "cell_type": "code",
      "source": [
        "#WIP to define a function to check if a string is palindarome or not\n",
        "\n",
        "def check_palindrome(my_string):\n",
        "  if my_string == my_string[::-1]:\n",
        "    return \"Palindrome string\"\n",
        "  else:\n",
        "    return \"Not a palindrome string\"\n",
        "\n",
        "check_palindrome(\"nayan\")"
      ],
      "metadata": {
        "colab": {
          "base_uri": "https://localhost:8080/",
          "height": 36
        },
        "id": "F4z8ae3g3uc1",
        "outputId": "be4db793-8756-4653-ab83-21bf32b89aa7"
      },
      "execution_count": 18,
      "outputs": [
        {
          "output_type": "execute_result",
          "data": {
            "text/plain": [
              "'Palindrome string'"
            ],
            "application/vnd.google.colaboratory.intrinsic+json": {
              "type": "string"
            }
          },
          "metadata": {},
          "execution_count": 18
        }
      ]
    },
    {
      "cell_type": "code",
      "source": [
        "#WIP to check if sum of a list is even or odd\n",
        "\n",
        "def check_sum(my_list):\n",
        "  if sum(my_list)%2==0:\n",
        "    return \"even\"\n",
        "  else:\n",
        "    return \"odd\"\n",
        "\n",
        "check_sum([1,2,2])"
      ],
      "metadata": {
        "colab": {
          "base_uri": "https://localhost:8080/",
          "height": 36
        },
        "id": "sGcnDMX35Agc",
        "outputId": "2cf87061-1657-4317-8b74-61827a997ea2"
      },
      "execution_count": 21,
      "outputs": [
        {
          "output_type": "execute_result",
          "data": {
            "text/plain": [
              "'odd'"
            ],
            "application/vnd.google.colaboratory.intrinsic+json": {
              "type": "string"
            }
          },
          "metadata": {},
          "execution_count": 21
        }
      ]
    },
    {
      "cell_type": "code",
      "source": [
        "#WIP to create a function to calculate volume of cone\n",
        "def check_cone(r,h):\n",
        "  volume_cone= 1/3*h*3.14*r*r\n",
        "  return volume_cone\n",
        "\n",
        "check_cone(3, 1)"
      ],
      "metadata": {
        "colab": {
          "base_uri": "https://localhost:8080/"
        },
        "id": "QD4l10QU6Obn",
        "outputId": "c2c63855-5c5a-4194-ca56-1e7cd7de6128"
      },
      "execution_count": 27,
      "outputs": [
        {
          "output_type": "execute_result",
          "data": {
            "text/plain": [
              "9.419999999999998"
            ]
          },
          "metadata": {},
          "execution_count": 27
        }
      ]
    },
    {
      "cell_type": "code",
      "source": [],
      "metadata": {
        "id": "NrFgYbro7jKv"
      },
      "execution_count": null,
      "outputs": []
    }
  ]
}